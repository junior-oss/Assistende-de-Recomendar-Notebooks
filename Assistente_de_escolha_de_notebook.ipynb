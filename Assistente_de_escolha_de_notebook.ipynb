{
  "nbformat": 4,
  "nbformat_minor": 0,
  "metadata": {
    "colab": {
      "provenance": []
    },
    "kernelspec": {
      "name": "python3",
      "display_name": "Python 3"
    },
    "language_info": {
      "name": "python"
    }
  },
  "cells": [
    {
      "cell_type": "code",
      "source": [
        "%pip -q install google-genai"
      ],
      "metadata": {
        "id": "UCCbECexLk_h"
      },
      "execution_count": 50,
      "outputs": []
    },
    {
      "cell_type": "code",
      "source": [
        "# Configura a API Key do Google Gemini\n",
        "\n",
        "import os\n",
        "from google.colab import userdata\n",
        "\n",
        "os.environ[\"GOOGLE_API_KEY\"] = userdata.get('GOOGLE_API_KEY')"
      ],
      "metadata": {
        "id": "NfCqHo1tLk8P"
      },
      "execution_count": 51,
      "outputs": []
    },
    {
      "cell_type": "code",
      "source": [
        "# Configura o cliente da SDK do Gemini\n",
        "\n",
        "from google import genai\n",
        "\n",
        "client = genai.Client()\n",
        "\n",
        "MODEL_ID = \"gemini-2.0-flash\"\n",
        "\n",
        "from IPython.display import display, HTML, Markdown"
      ],
      "metadata": {
        "id": "bV4w0H5TLk5g"
      },
      "execution_count": 52,
      "outputs": []
    },
    {
      "cell_type": "code",
      "source": [
        "# Instalar Framework ADK de agentes do Google ################################################\n",
        "!pip install -q google-adk"
      ],
      "metadata": {
        "id": "hvZ3UnPI4jhJ"
      },
      "execution_count": 53,
      "outputs": []
    },
    {
      "cell_type": "code",
      "execution_count": 69,
      "metadata": {
        "id": "aePV2bdfDeoW"
      },
      "outputs": [],
      "source": [
        "from google.adk.agents import Agent\n",
        "from google.adk.runners import Runner\n",
        "from google.adk.sessions import InMemorySessionService\n",
        "from google.adk.tools import google_search\n",
        "from google.genai import types  # Para criar conteúdos (Content e Part)\n",
        "from datetime import date\n",
        "import textwrap # Para formatar melhor a saída de texto\n",
        "from IPython.display import display, Markdown # Para exibir texto formatado no Colab\n",
        "import requests # Para fazer requisições HTTP\n",
        "import warnings\n",
        "import re # Para usar expressões regulares\n",
        "\n",
        "warnings.filterwarnings(\"ignore\")"
      ]
    },
    {
      "cell_type": "code",
      "source": [
        "# Função auxiliar que envia uma mensagem para um agente via Runner e retorna a resposta final\n",
        "def call_agent(agent: Agent, message_text: str) -> str:\n",
        "    # Cria um serviço de sessão em memória\n",
        "    session_service = InMemorySessionService()\n",
        "    # Cria uma nova sessão (você pode personalizar os IDs conforme necessário)\n",
        "    session = session_service.create_session(app_name=agent.name, user_id=\"user1\", session_id=\"session1\")\n",
        "    # Cria um Runner para o agente\n",
        "    runner = Runner(agent=agent, app_name=agent.name, session_service=session_service)\n",
        "    # Cria o conteúdo da mensagem de entrada\n",
        "    content = types.Content(role=\"user\", parts=[types.Part(text=message_text)])\n",
        "\n",
        "    final_response = \"\"\n",
        "    # Itera assincronamente pelos eventos retornados durante a execução do agente\n",
        "    for event in runner.run(user_id=\"user1\", session_id=\"session1\", new_message=content):\n",
        "        if event.is_final_response():\n",
        "          for part in event.content.parts:\n",
        "            if part.text is not None:\n",
        "              final_response += part.text\n",
        "              final_response += \"\\n\"\n",
        "    return final_response"
      ],
      "metadata": {
        "id": "_xP4lWhsS5ko"
      },
      "execution_count": 55,
      "outputs": []
    },
    {
      "cell_type": "code",
      "source": [
        "# Função auxiliar para exibir texto formatado em Markdown no Colab\n",
        "def to_markdown(text):\n",
        "  text = text.replace('•', '  *')\n",
        "  return Markdown(textwrap.indent(text, '> ', predicate=lambda _: True))"
      ],
      "metadata": {
        "id": "8dosiodaxfFR"
      },
      "execution_count": 56,
      "outputs": []
    },
    {
      "cell_type": "code",
      "source": [
        "###########################################################\n",
        "# --- Agente 1: Sugestão de Componentes --- #\n",
        "###########################################################\n",
        "def agente_sugestao_componentes(descricao_trabalho):\n",
        "\n",
        "    especialista_hardware = Agent(\n",
        "        name=\"agente_especialista_hardware\",\n",
        "        model=\"gemini-2.0-flash\",\n",
        "        instruction=f\"\"\"\n",
        "        Você é um arquiteto de sistemas de hardware especializado em notebooks.\n",
        "        Considerando as tecnologias e componentes mais recentes disponíveis, e com base na seguinte descrição do uso do notebook:\n",
        "        {descricao_trabalho}, quais são as configurações de componentes recomendadas (processador, memória RAM, armazenamento, placa de vídeo, se aplicável),\n",
        "        priorizando configurações com bom custo-benefício para o usuário.Considere também as restrições orçamentárias do usuário, caso sejam fornecidas na descrição do trabalho.\n",
        "        Forneça uma breve justificativa para a escolha de cada componente recomendado.\n",
        "        Instrução adicional: Se a descrição do trabalho não fornecer informações suficientes para uma recomendação direta ou se você precisar de informações mais\n",
        "        amplas sobre as configurações ideais, utilize a ferramenta do google (google_search) para complementar seu conhecimento e fornecer a melhor recomendação possível.\n",
        "        Inclua na sua resposta as fontes consultadas, se houver.\n",
        "        \"\"\",\n",
        "        description=\"Agente especializado em sugerir configurações de hardware para notebooks.\",\n",
        "        tools=[google_search]\n",
        "    )\n",
        "\n",
        "    entrada_do_agente = f\"Descrição do trabalho: {descricao_trabalho}\"\n",
        "    recomendacoes = call_agent(especialista_hardware, entrada_do_agente)\n",
        "    return recomendacoes"
      ],
      "metadata": {
        "id": "hQ6FOvFqIyss"
      },
      "execution_count": 67,
      "outputs": []
    },
    {
      "cell_type": "code",
      "source": [
        "###########################################################\n",
        "# --- Agente 2: Buscador de Notebooks --- #\n",
        "###########################################################\n",
        "def agente_buscador_notebooks(recomendacoes_componentes):\n",
        "\n",
        "    buscador_notebooks = Agent(\n",
        "        name=\"agente_buscador_notebooks\",\n",
        "        model=\"gemini-2.0-flash\",\n",
        "        instruction=f\"\"\"\n",
        "        Você é um assistente de pesquisa altamente especializado em encontrar notebooks com configurações específicas disponíveis para compra no Brasil.\n",
        "        Sua tarefa é usar a ferramenta de busca do Google (google_search) para encontrar até 10 notebooks disponíveis para compra no Brasil\n",
        "        que correspondam o mais precisamente possível às seguintes configurações recomendadas: {recomendacoes_componentes}.\n",
        "        Ao realizar a busca, inclua termos como \"Brasil\" ou nomes de lojas online populares no Brasil para restringir os resultados.\n",
        "        Seja flexível para considerar pequenas variações nas especificações, como uma quantidade maior de RAM ou um modelo de processador ligeiramente superior,\n",
        "        caso a configuração exata não esteja amplamente disponível no mercado brasileiro.\n",
        "\n",
        "        Para cada notebook encontrado, liste o link da página do produto e forneça um breve resumo, **iniciando com o nome/modelo do notebook**,\n",
        "        seguido das suas principais configurações, destacando aquelas que correspondem às recomendações. Mencione claramente a disponibilidade no Brasil\n",
        "        e priorize resultados de lojas online com boa reputação no país. Se disponível, mencione brevemente as avaliações de outros usuários sobre os\n",
        "        notebooks encontrados em sites brasileiros.\n",
        "        \"\"\",\n",
        "        description=\"Agente especializado em buscar notebooks com configurações específicas no Google, com foco no mercado brasileiro.\",\n",
        "        tools=[google_search],\n",
        "    )\n",
        "\n",
        "    entrada_do_agente = f\"Recomendações de componentes: {recomendacoes_componentes}\"\n",
        "    resultados_busca = call_agent(buscador_notebooks, entrada_do_agente)\n",
        "    return resultados_busca"
      ],
      "metadata": {
        "id": "gqHTvNUxNpH-"
      },
      "execution_count": 100,
      "outputs": []
    },
    {
      "cell_type": "code",
      "source": [
        "###########################################################\n",
        "# --- Agente 3: Analisador de Reviews --- #\n",
        "###########################################################\n",
        "def agente_analisador_reviews(nome_notebook):\n",
        "\n",
        "    analisador_reviews = Agent(\n",
        "        name=\"agente_analisador_reviews\",\n",
        "        model=\"gemini-2.0-flash\",\n",
        "        instruction=f\"\"\"\n",
        "        Você é um assistente de pesquisa especializado em analisar reviews de notebooks.\n",
        "        Sua tarefa é usar a ferramenta de busca do Google (google_search) para encontrar reviews e análises de fontes confiáveis\n",
        "        (incluindo vídeos no YouTube e artigos de sites especializados) sobre o seguinte notebook: {nome_notebook}.\n",
        "\n",
        "        Com base nessas análises, produza um relatório conciso listando os principais pontos positivos e negativos do notebook.\n",
        "        Para cada ponto, tente inferir a frequência com que é mencionado nas diversas fontes. Apresente os pontos de forma clara e concisa (usando marcadores, por exemplo).\n",
        "        Se a fonte do review especificar o público-alvo (ex: gamers, profissionais), mencione essa informação junto ao ponto levantado.\n",
        "        Foque em aspectos como desempenho, bateria, tela, teclado, qualidade de construção e outros fatores relevantes para a experiência do usuário.\n",
        "\n",
        "        Apresente o resultado final como uma lista de notebooks no seguinte formato:\n",
        "\n",
        "        ```\n",
        "        [\n",
        "          {{\n",
        "            \"Nome\": \"{nome_notebook}\",\n",
        "            \"Pontos Positivos\": [\"Exemplo de ponto positivo 1\", \"Exemplo de ponto positivo 2\"],\n",
        "            \"Pontos Negativos\": [\"Exemplo de ponto negativo 1\", \"Exemplo de ponto negativo 2\"]\n",
        "          }}\n",
        "        ]\n",
        "        ```\n",
        "        \"\"\",\n",
        "        description=\"Agente especializado em analisar reviews de notebooks e identificar pontos positivos e negativos.\",\n",
        "        tools=[google_search],\n",
        "    )\n",
        "\n",
        "    entrada_do_agente = f\"Nome do notebook a ser analisado: {nome_notebook}\"\n",
        "    relatorio_reviews = call_agent(analisador_reviews, entrada_do_agente)\n",
        "    return relatorio_reviews"
      ],
      "metadata": {
        "id": "4llJvTVFVeNg"
      },
      "execution_count": 71,
      "outputs": []
    },
    {
      "cell_type": "code",
      "source": [
        "###########################################################\n",
        "# --- Agente 4: Escolha por Custo-Benefício --- #\n",
        "###########################################################\n",
        "def agente_escolha_custo_beneficio(descricao_trabalho, analise_notebooks):\n",
        "\n",
        "    escolhedor_custo_beneficio = Agent(\n",
        "        name=\"agente_escolhedor_custo_beneficio\",\n",
        "        model=\"gemini-2.0-flash\",\n",
        "        instruction=f\"\"\"\n",
        "        Você é um especialista em avaliação de notebooks e custo-benefício.\n",
        "        Dada a descrição original do trabalho do usuário: {descricao_trabalho},\n",
        "        e considerando a seguinte análise dos notebooks encontrados:\n",
        "\n",
        "        {analise_notebooks}\n",
        "\n",
        "        Sua tarefa é analisar essas informações e identificar o notebook que oferece o melhor custo-benefício para atender às necessidades do usuário descritas no trabalho original.\n",
        "        Justifique sua escolha de forma clara e focada nos benefícios práticos para o usuário.\n",
        "        Explique como os pontos positivos do notebook selecionado se traduzem em vantagens concretas para o tipo de trabalho que ele pretende realizar\n",
        "        e como os pontos negativos são aceitáveis considerando o preço (se disponível na análise) e as outras opções. Aprimeira linha do relatório deve ser o nome do notebook.\n",
        "        \"\"\",\n",
        "        description=\"Agente especializado em escolher o melhor notebook com base no custo-benefício para o usuário.\",\n",
        "    )\n",
        "\n",
        "    entrada_do_agente = f\"Descrição do trabalho: {descricao_trabalho}\\nAnálise dos notebooks: {analise_notebooks}\"\n",
        "    melhor_notebook = call_agent(escolhedor_custo_beneficio, entrada_do_agente)\n",
        "    return melhor_notebook"
      ],
      "metadata": {
        "id": "tZW9SdEdYhps"
      },
      "execution_count": 101,
      "outputs": []
    },
    {
      "cell_type": "code",
      "source": [
        "###########################################################\n",
        "# --- Agente 5: Gerador de Relatório Final com Preço --- #\n",
        "###########################################################\n",
        "def agente_relatorio_final(notebook_escolhido, justificativa):\n",
        "\n",
        "    gerador_relatorio = Agent(\n",
        "        name=\"agente_gerador_relatorio\",\n",
        "        model=\"gemini-2.0-flash\",\n",
        "        instruction=f\"\"\"\n",
        "        Você é um assistente de apresentação de resultados. Sua tarefa é pegar a seguinte recomendação de notebook e a justificativa da escolha\n",
        "        e formatá-las em um relatório conciso e fácil de entender para o usuário. Além disso, você deve usar a ferramenta de busca do Google (google_search)\n",
        "        para pesquisar o preço atual do notebook recomendado: {notebook_escolhido}.\n",
        "\n",
        "        **Notebook Escolhido:** {notebook_escolhido}\n",
        "        **Justificativa:** {justificativa}\n",
        "\n",
        "        O relatório deve incluir o nome do notebook escolhido, a justificativa detalhada explicando os benefícios para o tipo de trabalho do usuário\n",
        "        e considerando o custo-benefício, e o preço atual encontrado na pesquisa. Apresente as informações de forma organizada e utilizando uma linguagem clara e acessível.\n",
        "        Inclua também um link para onde o preço foi encontrado, se possível.\n",
        "        \"\"\",\n",
        "        description=\"Agente especializado em gerar um relatório final para o usuário, incluindo o preço do notebook.\",\n",
        "        tools=[google_search],\n",
        "    )\n",
        "\n",
        "    entrada_do_agente = f\"Notebook Escolhido: {notebook_escolhido}\\nJustificativa: {justificativa}\\nBuscar preço de: {notebook_escolhido}\"\n",
        "    relatorio_usuario = call_agent(gerador_relatorio, entrada_do_agente)\n",
        "    return relatorio_usuario"
      ],
      "metadata": {
        "id": "rv7TqpPvfxjZ"
      },
      "execution_count": 73,
      "outputs": []
    },
    {
      "cell_type": "code",
      "source": [
        "###########################################################\n",
        "# --- Agente para Tirar Dúvidas sobre o Notebook --- #\n",
        "###########################################################\n",
        "def agente_responde_duvida(info_notebook, pergunta_usuario):\n",
        "\n",
        "    respondedor_duvidas = Agent(\n",
        "        name=\"agente_responde_duvida\",\n",
        "        model=\"gemini-2.0-flash\",\n",
        "        instruction=f\"\"\"\n",
        "        Você é um assistente especializado em responder a dúvidas sobre o seguinte notebook recomendado:\n",
        "\n",
        "        **Informações do Notebook:** {info_notebook}\n",
        "\n",
        "        Com base nessas informações, tente responder da forma mais clara e concisa possível à seguinte pergunta do usuário:\n",
        "\n",
        "        **Pergunta:** {pergunta_usuario}\n",
        "\n",
        "        Se a resposta para a pergunta não puder ser encontrada diretamente nas informações fornecidas, você pode usar a ferramenta de busca do Google (google_search) para procurar em fontes confiáveis (como sites de fabricantes, reviews de especialistas) por uma resposta.\n",
        "\n",
        "        Ao usar a busca no Google, siga estas diretrizes estritamente:\n",
        "        1. **Cite suas fontes:** Mencione claramente de onde você obteve a informação.\n",
        "        2. **Evite inventar:** Não crie informações que não foram encontradas nas fontes.\n",
        "        3. **Foco na pergunta:** Responda diretamente à pergunta do usuário.\n",
        "        4. **Seja conciso:** Mantenha a resposta breve e objetiva.\n",
        "\n",
        "        Se, após a busca, você ainda não encontrar uma resposta confiável, informe ao usuário que a informação não está disponível no momento.\n",
        "        \"\"\",\n",
        "        description=\"Agente especializado em responder a dúvidas sobre o notebook recomendado, com capacidade de buscar informações no Google.\",\n",
        "        tools=[google_search],\n",
        "    )\n",
        "\n",
        "    entrada_do_agente = f\"Informações do Notebook: {info_notebook}\\nPergunta do Usuário: {pergunta_usuario}\"\n",
        "    resposta = call_agent(respondedor_duvidas, entrada_do_agente)\n",
        "    return resposta"
      ],
      "metadata": {
        "id": "T50vHKEMV5hJ"
      },
      "execution_count": 75,
      "outputs": []
    },
    {
      "cell_type": "code",
      "source": [
        "###########################################################\n",
        "# --- Agente para Validar a Descrição do Trabalho --- #\n",
        "###########################################################\n",
        "def agente_validador_descricao(descricao_trabalho):\n",
        "\n",
        "    validador = Agent(\n",
        "        name=\"agente_validador_descricao\",\n",
        "        model=\"gemini-2.0-flash\",\n",
        "        instruction=f\"\"\"\n",
        "        Sua tarefa é verificar se a seguinte descrição de como o usuário pretende usar o notebook faz sentido dentro do contexto de usos comuns para um notebook:\n",
        "\n",
        "        **Descrição do Trabalho:** {descricao_trabalho}\n",
        "\n",
        "        Analise a descrição e determine se ela representa uma atividade ou necessidade plausível para o uso de um notebook.\n",
        "\n",
        "        - Se a descrição fizer sentido, retorne uma string contendo '1'.\n",
        "        - Se a descrição não fizer sentido ou for vaga demais, retorne uma sugestão de descrição mais clara e concisa, simples, fornecendo um exemplo simples de como\n",
        "        o usuário poderia descrever o uso do notebook. Retorne somente o texto do exemplo de sugestão sugestão.\n",
        "        \"\"\",\n",
        "        description=\"Agente especializado em validar se a descrição do trabalho do usuário faz sentido.\",\n",
        "    )\n",
        "\n",
        "    entrada_do_agente = f\"Descrição do Trabalho: {descricao_trabalho}\"\n",
        "    resultado_validacao = call_agent(validador, entrada_do_agente)\n",
        "    return resultado_validacao"
      ],
      "metadata": {
        "id": "7qv64rqMdRRp"
      },
      "execution_count": 91,
      "outputs": []
    },
    {
      "cell_type": "code",
      "source": [
        "###########################################################\n",
        "# --- Agente para Comparar Notebooks --- #\n",
        "###########################################################\n",
        "def agente_comparador_notebooks(nome_notebook1, nome_notebook2):\n",
        "    \"\"\"\n",
        "    Agente que compara as especificações e características de dois notebooks.\n",
        "\n",
        "    Args:\n",
        "        nome_notebook1 (str): O nome do primeiro notebook.\n",
        "        nome_notebook2 (str): O nome do segundo notebook.\n",
        "\n",
        "    Returns:\n",
        "        str: A comparação formatada dos dois notebooks.\n",
        "    \"\"\"\n",
        "    comparador = Agent(\n",
        "        name=\"agente_comparador_notebooks\",\n",
        "        model=\"gemini-2.0-flash\",\n",
        "        instruction=f\"\"\"\n",
        "        Você é um especialista em comparação de notebooks. Sua tarefa é receber os nomes de dois notebooks e apresentar uma comparação lado a lado das suas principais especificações e características.\n",
        "\n",
        "        Os notebooks a serem comparados são:\n",
        "\n",
        "        Notebook 1: {nome_notebook1}\n",
        "        Notebook 2: {nome_notebook2}\n",
        "\n",
        "        Para cada notebook, liste as seguintes informações, se disponíveis:\n",
        "\n",
        "        - Processador\n",
        "        - Memória RAM\n",
        "        - Armazenamento (tipo e capacidade)\n",
        "        - Placa de Vídeo (se aplicável)\n",
        "        - Tamanho da Tela\n",
        "        - Preço (se disponível)\n",
        "        - Um breve resumo das opiniões dos usuários (pontos positivos e negativos, se disponíveis nas análises).\n",
        "\n",
        "        Apresente a comparação em um formato fácil de ler, destacando as diferenças e semelhanças entre os dois modelos para ajudar o usuário a tomar uma decisão informada.\n",
        "        \"\"\",\n",
        "        description=\"Agente especializado em comparar as especificações e características de dois notebooks.\",\n",
        "    )\n",
        "\n",
        "    entrada_do_agente = f\"Comparar {nome_notebook1} com {nome_notebook2}.\"\n",
        "    comparacao = call_agent(comparador, entrada_do_agente)\n",
        "    return comparacao"
      ],
      "metadata": {
        "id": "5XPnr4lXmWhM"
      },
      "execution_count": 98,
      "outputs": []
    },
    {
      "cell_type": "code",
      "source": [
        "print(\"💻 Iniciando o Sistema de Recomendação de Notebooks 💻\")\n",
        "\n",
        "# --- Loop para garantir que a primeira descrição do trabalho seja válida ---\n",
        "while True:\n",
        "    # Obter a Descrição do Trabalho do Usuário\n",
        "    descricao_trabalho = input(\"❓ Por favor, descreva como você pretende usar o notebook: \")\n",
        "    # Verifica se a descrição do trabalho não está vazia após remover espaços em branco.\n",
        "    if descricao_trabalho.strip():\n",
        "        # Chama o agente validador para verificar se a descrição faz sentido.\n",
        "        resultado_validacao = agente_validador_descricao(descricao_trabalho)\n",
        "        if resultado_validacao.strip() == \"1\":\n",
        "            print(f\"Ótimo! Analisando as melhores opções para '{descricao_trabalho}'...\")\n",
        "            break # Sai do loop se a descrição for considerada válida.\n",
        "        else:\n",
        "            print(f\"⚠️ A descrição fornecida pode não fazer sentido. Uma sugestão seria: '{resultado_validacao}'. Por favor, tente novamente.\")\n",
        "    else:\n",
        "        print(\"⚠️ Por favor, forneça uma descrição válida do seu trabalho.\")\n",
        "\n",
        "# Inserir lógica do sistema de agentes ################################################\n",
        "# --- Agente 1: Sugestão de Componentes ---\n",
        "print(\"\\n⚙️ Iniciando análise das configurações ideais de hardware...\")\n",
        "# Este agente recebe a descrição do trabalho do usuário e retorna uma sugestão de configurações de hardware.\n",
        "recomendacoes_componentes = agente_sugestao_componentes(descricao_trabalho)\n",
        "print(\"\\n--- Sugestão de Componentes ---\\n\")\n",
        "display(Markdown(recomendacoes_componentes)) # Exibe a resposta do agente formatada em Markdown.\n",
        "print(\"-------------------------------------------------------------------\")\n",
        "\n",
        "# --- Agente 2: Buscador de Notebooks ---\n",
        "print(\"\\n🔍 Buscando notebooks que sejam compatíveis com às configurações recomendadas...\")\n",
        "# Este agente recebe as recomendações de componentes e busca por notebooks que atendam a essas especificações.\n",
        "notebooks_encontrados = agente_buscador_notebooks(recomendacoes_componentes)\n",
        "\n",
        "# --- Extrair Nomes dos Notebooks e Chamar Agente 3 ---\n",
        "nomes_notebooks = []\n",
        "# Itera sobre cada linha da resposta do Agente 2 para extrair os nomes dos notebooks encontrados.\n",
        "for linha in notebooks_encontrados.splitlines():\n",
        "    # Utiliza uma expressão regular para encontrar linhas que começam com um número, ponto, espaço e um nome de notebook em negrito.\n",
        "    if re.match(r'^\\d+\\.\\s+\\*\\*(.+?)\\*\\*', linha):\n",
        "        # Extrai o nome do notebook utilizando outra expressão regular.\n",
        "        nome = re.findall(r'^\\d+\\.\\s+\\*\\*(.+?)\\*\\*', linha)[0]\n",
        "        # Adiciona o nome do notebook à lista de nomes.\n",
        "        nomes_notebooks.append(nome)\n",
        "\n",
        "analises_notebooks = []\n",
        "# Itera sobre a lista de nomes de notebooks encontrados para chamar o Agente 3 para cada um.\n",
        "print(\"\\n🧐 Analisando as opiniões dos usuários sobre os notebooks encontrados...\")\n",
        "for nome_notebook in nomes_notebooks:\n",
        "    # --- Agente 3: Analisador de Reviews ---\n",
        "    # Este agente recebe o nome de um notebook e busca e resume reviews sobre ele.\n",
        "    analise = agente_analisador_reviews(nome_notebook)\n",
        "    # Adiciona a análise do notebook à lista de análises.\n",
        "    analises_notebooks.append(analise)\n",
        "\n",
        "# --- Agente 4: Escolha por Custo-Benefício ---\n",
        "print(\"\\n💰 Identificando a melhor opção de custo-benefício...\")\n",
        "# Este agente analisa as reviews dos notebooks e as recomendações de componentes para escolher a melhor opção custo-benefício.\n",
        "melhor_notebook_info = agente_escolha_custo_beneficio(descricao_trabalho, analises_notebooks)\n",
        "\n",
        "# --- Agente 5: Gerador de Relatório Final ---\n",
        "print(\"\\n📝 Gerando o relatório final com a recomendação...\")\n",
        "# Este agente recebe as informações do melhor notebook escolhido e gera um relatório final para o usuário.\n",
        "# Por simplicidade, a mesma informação está sendo passada para ambos os argumentos.\n",
        "# Em uma implementação mais completa, o primeiro argumento poderia ser informações gerais e o segundo detalhes específicos.\n",
        "relatorio_final = agente_relatorio_final(melhor_notebook_info, melhor_notebook_info)\n",
        "display(Markdown(relatorio_final)) # Exibe o relatório final formatado em Markdown.\n",
        "print(\"-------------------------------------------------------------------\")\n",
        "\n",
        "print(\"\\n✨ Relatório de Recomendação de Notebook Gerado! ✨\")\n",
        "\n",
        "# --- Interação com o Usuário após a Recomendação ---\n",
        "\n",
        "# Cria uma lista contendo o notebook recomendado como a melhor opção\n",
        "# e os nomes de outros notebooks que foram considerados durante a busca.\n",
        "notebooks_sugeridos = [melhor_notebook_info] + nomes_notebooks\n",
        "\n",
        "# Inicia um loop contínuo para interagir com o usuário até que ele esteja satisfeito ou decida encerrar.\n",
        "while True:\n",
        "    # Pergunta ao usuário sobre sua satisfação com a recomendação atual,\n",
        "    # oferecendo as opções de 'sim' (satisfeito), 'não' (insatisfeito, deseja nova recomendação),\n",
        "    # 'dúvida' (tem perguntas sobre o notebook recomendado) e 'comparar' (deseja comparar com outras opções).\n",
        "    satisfacao = input(\"❓ Você está satisfeito com a recomendação? (sim/não/dúvida/comparar): \").lower()\n",
        "\n",
        "    # Se o usuário responder que está satisfeito.\n",
        "    if satisfacao == \"sim\":\n",
        "        print(\"\\n👍 Ótimo! Ficamos felizes em ajudar.\")\n",
        "        break # Sai do loop de interação, encerrando o sistema.\n",
        "\n",
        "    # Se o usuário responder que não está satisfeito e deseja uma nova recomendação.\n",
        "    elif satisfacao == \"não\":\n",
        "        print(\"\\n🔄 Entendi. Por favor, descreva o que não te agradou ou quais são suas novas preferências para que eu possa gerar outra recomendação:\")\n",
        "        nova_descricao = input() # Solicita ao usuário uma nova descrição de suas necessidades.\n",
        "        # Verifica se o usuário forneceu uma nova descrição (não deixou em branco).\n",
        "        if nova_descricao:\n",
        "            print(f\"\\n✨ Analisando suas novas preferências: '{nova_descricao}'...\")\n",
        "            # Chama o agente para sugerir componentes ideais com base na nova descrição.\n",
        "            recomendacoes_componentes = agente_sugestao_componentes(nova_descricao)\n",
        "            print(\"\\n--- Nova Sugestão de Componentes ---\\n\")\n",
        "            display(Markdown(recomendacoes_componentes))\n",
        "            print(\"-------------------------------------------------------------------\")\n",
        "\n",
        "            print(\"\\n🔍 Buscando notebooks que sejam compatíveis com às configurações recomendadas...\")\n",
        "            # Chama o agente para buscar notebooks com as novas configurações recomendadas.\n",
        "            notebooks_encontrados = agente_buscador_notebooks(recomendacoes_componentes)\n",
        "            # Extrai os nomes dos notebooks encontrados na nova busca utilizando expressões regulares.\n",
        "            nomes_notebooks = [re.findall(r'^\\d+\\.\\s+\\*\\*(.+?)\\*\\*', linha)[0] for linha in notebooks_encontrados.splitlines() if re.match(r'^\\d+\\.\\s+\\*\\*(.+?)\\*\\*', linha)]\n",
        "            # Chama o agente para analisar as reviews dos notebooks encontrados na nova busca.\n",
        "            analises_notebooks = [agente_analisador_reviews(nome_notebook) for nome_notebook in nomes_notebooks]\n",
        "            # Chama o agente para escolher a melhor opção de custo-benefício com base nas novas análises.\n",
        "            melhor_notebook_info = agente_escolha_custo_beneficio(nova_descricao, analises_notebooks)\n",
        "            print(\"\\n💰 Identificando a melhor opção de custo-benefício...\")\n",
        "            print(\"\\n📝 Gerando o relatório final com a recomendação...\")\n",
        "            # Chama o agente para gerar um novo relatório final com a nova recomendação.\n",
        "            relatorio_final = agente_relatorio_final(melhor_notebook_info, melhor_notebook_info)\n",
        "            display(Markdown(relatorio_final))\n",
        "            print(\"-------------------------------------------------------------------\")\n",
        "            print(\"\\n✨ Novo Relatório de Recomendação de Notebook Gerado! ✨\")\n",
        "            # Atualiza a lista de notebooks sugeridos com a nova melhor opção e os outros notebooks encontrados.\n",
        "            notebooks_sugeridos = [melhor_notebook_info] + nomes_notebooks\n",
        "        else:\n",
        "            print(\"\\n⚠️ Por favor, forneça uma descrição para a nova recomendação.\")\n",
        "\n",
        "    # Se o usuário responder que tem dúvidas sobre o notebook recomendado.\n",
        "    elif satisfacao == \"dúvida\":\n",
        "        while True:\n",
        "            pergunta = input(\"❓ Qual a sua dúvida sobre o notebook recomendado? (ou digite 'voltar' para sair) \")\n",
        "            # Permite ao usuário sair do modo de dúvidas digitando 'voltar'.\n",
        "            if pergunta.lower() == \"voltar\":\n",
        "                break # Sai do loop de perguntas.\n",
        "            # Se o usuário digitar uma pergunta.\n",
        "            elif pergunta:\n",
        "                print(f\"\\n🤔 Buscando informações sobre sua dúvida: '{pergunta}'...\")\n",
        "                # Chama o agente para responder à pergunta do usuário sobre o notebook recomendado.\n",
        "                resposta_duvida = agente_responde_duvida(melhor_notebook_info, pergunta)\n",
        "                print(\"\\n--- Resposta para sua dúvida ---\\n\")\n",
        "                display(Markdown(resposta_duvida))\n",
        "                print(\"\\n-------------------------------\\n\")\n",
        "            # Se o usuário não digitar nada (apenas pressionar Enter).\n",
        "            else:\n",
        "                print(\"\\n⚠️ Por favor, digite sua dúvida.\")\n",
        "\n",
        "    # Se o usuário responder que deseja comparar o notebook recomendado com outras opções.\n",
        "    elif satisfacao == \"comparar\":\n",
        "        # Verifica se há outros notebooks sugeridos além do melhor.\n",
        "        if len(nomes_notebooks) < 1:\n",
        "            print(\"\\n⚠️ Não há outros notebooks suficientes para comparar com a recomendação atual.\")\n",
        "        else:\n",
        "            # Tenta extrair o nome do melhor notebook assumindo que ele está na primeira linha da sua representação em string.\n",
        "            nome_melhor_notebook = melhor_notebook_info.split('\\n')[0].strip()\n",
        "            print(f\"\\n💻 Selecione um notebook para comparar com '{nome_melhor_notebook}':\")\n",
        "            # Lista os outros notebooks sugeridos (excluindo o melhor) para o usuário escolher qual comparar.\n",
        "            for i, nome in enumerate(nomes_notebooks):\n",
        "                print(f\"{i+1}. {nome}\")\n",
        "            try:\n",
        "                opcao = int(input(f\"Digite o número do notebook para comparar (1-{len(nomes_notebooks)}, ou 0 para voltar): \"))\n",
        "                # Verifica se a opção digitada é um número válido dentro do intervalo dos outros notebooks sugeridos.\n",
        "                if 1 <= opcao <= len(nomes_notebooks):\n",
        "                    notebook_comparar = nomes_notebooks[opcao - 1]\n",
        "                    print(f\"\\n🔄 Comparando '{nome_melhor_notebook}' com '{notebook_comparar}'...\")\n",
        "                    # Chama o agente para realizar a comparação entre o melhor notebook e o escolhido pelo usuário.\n",
        "                    comparacao = agente_comparador_notebooks(melhor_notebook_info, notebook_comparar)\n",
        "                    print(\"\\n--- Comparação de Notebooks ---\\n\")\n",
        "                    display(Markdown(comparacao))\n",
        "                    print(\"\\n-------------------------------\\n\")\n",
        "                # Se o usuário digitar 0, volta para a pergunta de satisfação.\n",
        "                elif opcao == 0:\n",
        "                    continue\n",
        "                # Se a opção digitada não for válida.\n",
        "                else:\n",
        "                    print(\"\\n⚠️ Opção inválida.\")\n",
        "            # Trata o erro caso o usuário digite algo que não seja um número.\n",
        "            except ValueError:\n",
        "                print(\"\\n⚠️ Por favor, digite um número válido.\")\n",
        "\n",
        "    # Se o usuário não digitar uma das opções válidas ('sim', 'não', 'dúvida', 'comparar').\n",
        "    elif not satisfacao.strip():\n",
        "        print(\"\\n⚠️ Por favor, digite 'sim', 'não', 'dúvida' ou 'comparar'.\")\n",
        "    # Para qualquer outra entrada inválida.\n",
        "    else:\n",
        "        print(\"\\n⚠️ Resposta inválida. Por favor, digite 'sim', 'não', 'dúvida' ou 'comparar'.\")\n",
        "\n",
        "# Mensagem de agradecimento ao usuário após encerrar a interação.\n",
        "print(\"\\n👋 Obrigado por utilizar nosso sistema de recomendação!\")"
      ],
      "metadata": {
        "colab": {
          "base_uri": "https://localhost:8080/",
          "height": 1000
        },
        "id": "Kw-LhUFciZk6",
        "outputId": "e5d0d988-5c7a-49c4-fbee-e81933aa053f"
      },
      "execution_count": 105,
      "outputs": [
        {
          "output_type": "stream",
          "name": "stdout",
          "text": [
            "💻 Iniciando o Sistema de Recomendação de Notebooks 💻\n",
            "❓ Por favor, descreva como você pretende usar o notebook: enegenheiro eletricista.\n",
            "Ótimo! Analisando as melhores opções para 'enegenheiro eletricista.'...\n",
            "\n",
            "⚙️ Iniciando análise das configurações ideais de hardware...\n",
            "\n",
            "--- Sugestão de Componentes ---\n",
            "\n"
          ]
        },
        {
          "output_type": "display_data",
          "data": {
            "text/plain": [
              "<IPython.core.display.Markdown object>"
            ],
            "text/markdown": "Para um engenheiro eletricista, um notebook com bom custo-benefício deve equilibrar poder de processamento para simulações e cálculos, capacidade de executar softwares de engenharia, portabilidade para trabalho em campo e durabilidade.\n\nAqui está uma configuração recomendada com justificativas:\n\n*   **Processador:** AMD Ryzen 5 7530U.\n\n    *   **Justificativa:** Este processador oferece um bom equilíbrio entre desempenho e consumo de energia, ideal para tarefas exigentes como simulações e modelagem, sem esgotar rapidamente a bateria. A arquitetura Zen 3+ da AMD oferece um bom desempenho multitarefa e single-core, essencial para softwares de engenharia.\n*   **Memória RAM:** 16GB DDR4 3200MHz.\n\n    *   **Justificativa:** 16GB é o ideal para lidar com múltiplos programas de engenharia abertos simultaneamente, além de permitir trabalhar com arquivos grandes e simulações complexas sem lentidão. DDR4 oferece um bom custo-benefício em relação às tecnologias mais recentes.\n*   **Armazenamento:** SSD de 512GB NVMe PCIe Gen3 ou Gen4.\n\n    *   **Justificativa:** Um SSD NVMe garante tempos de inicialização rápidos para o sistema operacional e programas, além de carregamento e salvamento ágil de arquivos. 512GB oferece espaço suficiente para o sistema operacional, softwares de engenharia e arquivos de trabalho importantes. PCIe Gen4 oferece velocidades mais rápidas, mas PCIe Gen3 é uma opção mais acessível e ainda muito eficiente.\n*   **Placa de Vídeo:** Placa de vídeo integrada AMD Radeon Graphics (integrada ao processador Ryzen).\n\n    *   **Justificativa:** Para um engenheiro eletricista, uma placa de vídeo dedicada geralmente não é essencial, a menos que o trabalho envolva modelagem 3D complexa ou renderização intensiva. As placas integradas AMD Radeon Graphics oferecem desempenho suficiente para a maioria das tarefas de engenharia 2D/3D e visualização de dados, contribuindo para a economia de energia e redução de custos.\n\nPara complementar estas informações, realizei uma pesquisa no Google utilizando as seguintes palavras chaves:\n\n\nCom base nas informações encontradas nas pesquisas, aqui estão algumas opções adicionais e alternativas para a configuração recomendada, levando em conta o custo-benefício:\n\n*   **Alternativa de Processador:** Intel Core i5 (11ª ou 12ª geração). Uma opção da Intel pode ser mais adequada dependendo dos softwares específicos que o engenheiro eletricista utiliza, já que alguns podem ser otimizados para processadores Intel.\n*   **Alternativa de Placa de Vídeo:** Se o trabalho envolver tarefas de modelagem 3D ou uso intensivo de softwares gráficos, considerar uma placa de vídeo dedicada de entrada, como NVIDIA GeForce GTX 1650 ou RTX 3050, pode ser vantajoso.\n*   **Marcas e Modelos Sugeridos:** Acer Nitro 5, Lenovo IdeaPad Gaming 3i, e Dell G15 são frequentemente recomendados como notebooks com bom custo-benefício para engenheiros.\n\n**Considerações Adicionais:**\n\n*   **Tela:** Uma tela de 15.6 polegadas Full HD (1920x1080) é recomendada para um bom equilíbrio entre portabilidade e conforto visual.\n*   **Sistema Operacional:** Windows 11 é o sistema operacional mais recente e geralmente oferece boa compatibilidade com softwares de engenharia.\n*   **Bateria:** Procurar por modelos com boa autonomia de bateria, especialmente se o trabalho exigir mobilidade.\n*   **Refrigeramento:** Sistemas de resfriamento eficientes são importantes para evitar o superaquecimento, principalmente ao executar tarefas exigentes por longos períodos.\n\nLembre-se que o \"melhor\" custo-benefício depende das necessidades específicas de cada engenheiro e do orçamento disponível. É sempre recomendável pesquisar e comparar diferentes modelos antes de tomar uma decisão final.\n\n"
          },
          "metadata": {}
        },
        {
          "output_type": "stream",
          "name": "stdout",
          "text": [
            "-------------------------------------------------------------------\n",
            "\n",
            "🔍 Buscando notebooks que sejam compatíveis com às configurações recomendadas...\n",
            "\n",
            "🧐 Analisando as opiniões dos usuários sobre os notebooks encontrados...\n",
            "\n",
            "💰 Identificando a melhor opção de custo-benefício...\n",
            "\n",
            "📝 Gerando o relatório final com a recomendação...\n"
          ]
        },
        {
          "output_type": "display_data",
          "data": {
            "text/plain": [
              "<IPython.core.display.Markdown object>"
            ],
            "text/markdown": "Para fornecer um relatório conciso e útil, preciso que você especifique o nome do notebook escolhido e a justificativa detalhada para essa escolha. Sem essas informações, não consigo gerar o relatório solicitado. Além disso, preciso do nome exato do notebook para buscar o preço atual. Por favor, forneça esses detalhes para que eu possa completar a tarefa.\n\n"
          },
          "metadata": {}
        },
        {
          "output_type": "stream",
          "name": "stdout",
          "text": [
            "-------------------------------------------------------------------\n",
            "\n",
            "✨ Relatório de Recomendação de Notebook Gerado! ✨\n",
            "❓ Você está satisfeito com a recomendação? (sim/não/dúvida/comparar): não\n",
            "\n",
            "🔄 Entendi. Por favor, descreva o que não te agradou ou quais são suas novas preferências para que eu possa gerar outra recomendação:\n",
            "❓ Por favor, descreva como você pretende usar o notebook: um notebook mais barato.\n",
            "enegenheiro eletricista. um notebook mais barato.\n",
            "⚠️ A descrição fornecida pode não fazer sentido. Uma sugestão seria: 'engenheiro eletricista usando notebook para projetos de instalações elétricas e planilhas de custos.\n",
            "'. Por favor, tente novamente.\n",
            "❓ Por favor, descreva como você pretende usar o notebook: ngenheiro eletricista usando notebook para projetos de instalações elétricas e planilhas de custos.\n",
            "enegenheiro eletricista. ngenheiro eletricista usando notebook para projetos de instalações elétricas e planilhas de custos.\n",
            "Ótimo! Analisando as melhores opções para 'enegenheiro eletricista. ngenheiro eletricista usando notebook para projetos de instalações elétricas e planilhas de custos.'...\n",
            "\n",
            "✨ Analisando suas novas preferências: 'enegenheiro eletricista. ngenheiro eletricista usando notebook para projetos de instalações elétricas e planilhas de custos.'...\n",
            "\n",
            "--- Nova Sugestão de Componentes ---\n",
            "\n"
          ]
        },
        {
          "output_type": "display_data",
          "data": {
            "text/plain": [
              "<IPython.core.display.Markdown object>"
            ],
            "text/markdown": "Para um engenheiro eletricista que utiliza o notebook para projetos de instalações elétricas e planilhas de custos, recomendo as seguintes configurações de componentes, priorizando um bom custo-benefício:\n\n\nCom base nas informações coletadas e considerando o uso para projetos de instalações elétricas e planilhas de custos, sugiro a seguinte configuração com foco em custo-benefício:\n\n*   **Processador:** Intel Core i5 (11ª geração ou superior) ou AMD Ryzen 5 (série 5000 ou superior).\n    *   **Justificativa:** Processadores i5 ou Ryzen 5 oferecem um bom equilíbrio entre desempenho e preço. Eles são capazes de lidar com softwares de projeto elétrico (como AutoCAD, Revit - se usado para modelagem BIM - e outros) e planilhas sem grandes dificuldades.\n*   **Memória RAM:** 16 GB DDR4 (mínimo 8GB).\n    *   **Justificativa:** 16 GB de RAM é recomendado para garantir que você possa executar vários programas simultaneamente e trabalhar com arquivos grandes sem lentidão. Se o orçamento for limitado, 8GB é o mínimo aceitável, mas o ideal é priorizar 16GB.\n*   **Armazenamento:** SSD de 512 GB (mínimo 256GB).\n    *   **Justificativa:** Um SSD (Solid State Drive) oferece tempos de carregamento muito mais rápidos para o sistema operacional, aplicativos e arquivos, o que aumenta a produtividade. 512 GB é um bom tamanho para armazenar projetos, programas e documentos. Se o orçamento for apertado, um SSD de 256 GB pode ser suficiente, mas considere um SSD de maior capacidade no futuro.\n*   **Placa de Vídeo:** Dedicada NVIDIA GeForce GTX 1650 (4GB) ou similar AMD Radeon RX.\n    *   **Justificativa:** Uma placa de vídeo dedicada, mesmo que de entrada, pode melhorar o desempenho em softwares de modelagem 2D/3D e garantir uma experiência mais fluida ao trabalhar com projetos complexos. Modelos como a GTX 1650 são boas opções de custo-benefício. Se o trabalho for majoritariamente 2D, uma placa integrada (como a Intel Iris Xe Graphics ou AMD Radeon Graphics) pode ser suficiente, economizando no custo total.\n*   **Tela:** 15.6 polegadas, resolução Full HD (1920x1080)\n    *   **Justificativa:** Uma tela de 15.6 polegadas é um bom tamanho para trabalhar com projetos e planilhas. A resolução Full HD oferece uma boa qualidade de imagem e espaço de trabalho.\n* **Bateria:** Priorizar modelos com boa autonomia, dependendo da necessidade de mobilidade.\n\n**Observações:**\n\n*   **Softwares:** Certifique-se de verificar os requisitos de sistema recomendados pelos softwares que você utiliza para garantir a compatibilidade e o desempenho ideal.\n*   **Custo-benefício:** As configurações acima visam um bom equilíbrio entre desempenho e preço. É possível encontrar notebooks com essas características em diferentes faixas de preço, dependendo da marca, modelo e recursos adicionais.\n\n**Exemplos de modelos que se encaixam nesse perfil (pesquisa em 17 de Maio de 2025):**\n\n* Acer Nitro 5\n* Lenovo Ideapad Gaming 3i\n* Notebook Gamer Legion 5\n\nLembre-se de pesquisar e comparar preços antes de tomar uma decisão final.\n\n"
          },
          "metadata": {}
        },
        {
          "output_type": "stream",
          "name": "stdout",
          "text": [
            "-------------------------------------------------------------------\n",
            "\n",
            "🔍 Buscando notebooks que sejam compatíveis com às configurações recomendadas...\n",
            "\n",
            "💰 Identificando a melhor opção de custo-benefício...\n",
            "\n",
            "📝 Gerando o relatório final com a recomendação...\n"
          ]
        },
        {
          "output_type": "display_data",
          "data": {
            "text/plain": [
              "<IPython.core.display.Markdown object>"
            ],
            "text/markdown": "Compreendo. Para gerar o relatório sobre o notebook ideal para um engenheiro eletricista, preciso primeiro de uma recomendação específica e suas respectivas especificações. Como não há nenhuma análise ou sugestão de notebook fornecida, não consigo criar o relatório completo com justificativa e preço.\n\nPara prosseguir, preciso que você me forneça as seguintes informações:\n\n1.  **Nome do Notebook:** Qual notebook você gostaria que eu recomendasse?\n2.  **Especificações Técnicas:** Quais são as especificações desse notebook (processador, RAM, armazenamento, placa de vídeo, etc.)?\n3.  **Justificativa Detalhada:** Por que este notebook é adequado para um engenheiro eletricista que trabalha com projetos de instalações elétricas e planilhas de custos?\n4.  **Onde Buscar o Preço:** Qual o nome do notebook que devo procurar o preço?\n\nAssim que tiver essas informações, poderei usar a ferramenta de busca para encontrar o preço atual e montar o relatório completo para você.\n\nOk, entendi. Para criar um relatório útil e preciso, preciso de informações específicas sobre o notebook que você deseja recomendar. Como você não forneceu detalhes sobre um notebook específico, não posso gerar o relatório agora.\n\nPor favor, forneça as seguintes informações para que eu possa completar o relatório:\n\n*   **Nome do Notebook:** O nome exato do modelo do notebook (ex: Dell XPS 15, MacBook Pro 16, Lenovo ThinkPad P1, etc.).\n*   **Especificações Técnicas:** Detalhes sobre o processador (ex: Intel Core i7, AMD Ryzen 7), quantidade de RAM (ex: 16GB, 32GB), armazenamento (ex: 512GB SSD, 1TB SSD), placa de vídeo (ex: NVIDIA GeForce RTX 3050, AMD Radeon Pro), e tamanho da tela.\n*   **Justificativa:** Uma explicação detalhada de por que este notebook é uma boa escolha para um engenheiro eletricista, considerando suas necessidades de software (ex: AutoCAD, softwares de simulação elétrica), tarefas (ex: projetos de instalações elétricas, planilhas de custos), e portabilidade.\n*   **Onde Buscar o Preço:** O nome do modelo do notebook para buscar o preço.\n\nCom essas informações, posso pesquisar o preço atual do notebook e criar um relatório completo e útil para você.\n\n"
          },
          "metadata": {}
        },
        {
          "output_type": "stream",
          "name": "stdout",
          "text": [
            "-------------------------------------------------------------------\n",
            "\n",
            "✨ Novo Relatório de Recomendação de Notebook Gerado! ✨\n"
          ]
        },
        {
          "output_type": "error",
          "ename": "KeyboardInterrupt",
          "evalue": "Interrupted by user",
          "traceback": [
            "\u001b[0;31m---------------------------------------------------------------------------\u001b[0m",
            "\u001b[0;31mKeyboardInterrupt\u001b[0m                         Traceback (most recent call last)",
            "\u001b[0;32m<ipython-input-105-fdb88ee88eb5>\u001b[0m in \u001b[0;36m<cell line: 0>\u001b[0;34m()\u001b[0m\n\u001b[1;32m     79\u001b[0m     \u001b[0;31m# oferecendo as opções de 'sim' (satisfeito), 'não' (insatisfeito, deseja nova recomendação),\u001b[0m\u001b[0;34m\u001b[0m\u001b[0;34m\u001b[0m\u001b[0m\n\u001b[1;32m     80\u001b[0m     \u001b[0;31m# 'dúvida' (tem perguntas sobre o notebook recomendado) e 'comparar' (deseja comparar com outras opções).\u001b[0m\u001b[0;34m\u001b[0m\u001b[0;34m\u001b[0m\u001b[0m\n\u001b[0;32m---> 81\u001b[0;31m     \u001b[0msatisfacao\u001b[0m \u001b[0;34m=\u001b[0m \u001b[0minput\u001b[0m\u001b[0;34m(\u001b[0m\u001b[0;34m\"❓ Você está satisfeito com a recomendação? (sim/não/dúvida/comparar): \"\u001b[0m\u001b[0;34m)\u001b[0m\u001b[0;34m.\u001b[0m\u001b[0mlower\u001b[0m\u001b[0;34m(\u001b[0m\u001b[0;34m)\u001b[0m\u001b[0;34m\u001b[0m\u001b[0;34m\u001b[0m\u001b[0m\n\u001b[0m\u001b[1;32m     82\u001b[0m \u001b[0;34m\u001b[0m\u001b[0m\n\u001b[1;32m     83\u001b[0m     \u001b[0;31m# Se o usuário responder que está satisfeito.\u001b[0m\u001b[0;34m\u001b[0m\u001b[0;34m\u001b[0m\u001b[0m\n",
            "\u001b[0;32m/usr/local/lib/python3.11/dist-packages/ipykernel/kernelbase.py\u001b[0m in \u001b[0;36mraw_input\u001b[0;34m(self, prompt)\u001b[0m\n\u001b[1;32m   1175\u001b[0m                 \u001b[0;34m\"raw_input was called, but this frontend does not support input requests.\"\u001b[0m\u001b[0;34m\u001b[0m\u001b[0;34m\u001b[0m\u001b[0m\n\u001b[1;32m   1176\u001b[0m             )\n\u001b[0;32m-> 1177\u001b[0;31m         return self._input_request(\n\u001b[0m\u001b[1;32m   1178\u001b[0m             \u001b[0mstr\u001b[0m\u001b[0;34m(\u001b[0m\u001b[0mprompt\u001b[0m\u001b[0;34m)\u001b[0m\u001b[0;34m,\u001b[0m\u001b[0;34m\u001b[0m\u001b[0;34m\u001b[0m\u001b[0m\n\u001b[1;32m   1179\u001b[0m             \u001b[0mself\u001b[0m\u001b[0;34m.\u001b[0m\u001b[0m_parent_ident\u001b[0m\u001b[0;34m[\u001b[0m\u001b[0;34m\"shell\"\u001b[0m\u001b[0;34m]\u001b[0m\u001b[0;34m,\u001b[0m\u001b[0;34m\u001b[0m\u001b[0;34m\u001b[0m\u001b[0m\n",
            "\u001b[0;32m/usr/local/lib/python3.11/dist-packages/ipykernel/kernelbase.py\u001b[0m in \u001b[0;36m_input_request\u001b[0;34m(self, prompt, ident, parent, password)\u001b[0m\n\u001b[1;32m   1217\u001b[0m             \u001b[0;32mexcept\u001b[0m \u001b[0mKeyboardInterrupt\u001b[0m\u001b[0;34m:\u001b[0m\u001b[0;34m\u001b[0m\u001b[0;34m\u001b[0m\u001b[0m\n\u001b[1;32m   1218\u001b[0m                 \u001b[0;31m# re-raise KeyboardInterrupt, to truncate traceback\u001b[0m\u001b[0;34m\u001b[0m\u001b[0;34m\u001b[0m\u001b[0m\n\u001b[0;32m-> 1219\u001b[0;31m                 \u001b[0;32mraise\u001b[0m \u001b[0mKeyboardInterrupt\u001b[0m\u001b[0;34m(\u001b[0m\u001b[0;34m\"Interrupted by user\"\u001b[0m\u001b[0;34m)\u001b[0m \u001b[0;32mfrom\u001b[0m \u001b[0;32mNone\u001b[0m\u001b[0;34m\u001b[0m\u001b[0;34m\u001b[0m\u001b[0m\n\u001b[0m\u001b[1;32m   1220\u001b[0m             \u001b[0;32mexcept\u001b[0m \u001b[0mException\u001b[0m\u001b[0;34m:\u001b[0m\u001b[0;34m\u001b[0m\u001b[0;34m\u001b[0m\u001b[0m\n\u001b[1;32m   1221\u001b[0m                 \u001b[0mself\u001b[0m\u001b[0;34m.\u001b[0m\u001b[0mlog\u001b[0m\u001b[0;34m.\u001b[0m\u001b[0mwarning\u001b[0m\u001b[0;34m(\u001b[0m\u001b[0;34m\"Invalid Message:\"\u001b[0m\u001b[0;34m,\u001b[0m \u001b[0mexc_info\u001b[0m\u001b[0;34m=\u001b[0m\u001b[0;32mTrue\u001b[0m\u001b[0;34m)\u001b[0m\u001b[0;34m\u001b[0m\u001b[0;34m\u001b[0m\u001b[0m\n",
            "\u001b[0;31mKeyboardInterrupt\u001b[0m: Interrupted by user"
          ]
        }
      ]
    }
  ]
}